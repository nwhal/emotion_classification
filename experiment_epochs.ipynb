{
 "cells": [
  {
   "cell_type": "code",
   "execution_count": 1,
   "metadata": {},
   "outputs": [],
   "source": [
    "import perceptron_tfidf\n",
    "import data_utils as du\n",
    "import evaluator"
   ]
  },
  {
   "cell_type": "code",
   "execution_count": 2,
   "metadata": {},
   "outputs": [],
   "source": [
    "X_train, y_train, X_test, y_test = du.prep_data('isear-train.csv', 'isear-test.csv')"
   ]
  },
  {
   "cell_type": "code",
   "execution_count": 13,
   "metadata": {},
   "outputs": [],
   "source": [
    "f1_scores = dict(joy=0, fear=0, guilt=0, anger=0, disgust=0, sadness=0, shame=0)\n",
    "emotions = list(f1_scores.keys())\n",
    "for i in range(3):\n",
    "    model = perceptron_tfidf.Perceptron(X_train, y_train, epoch=5)\n",
    "    model.train()\n",
    "    predictions = model.predict(X_test, y_test)\n",
    "\n",
    "    eval = evaluator.Evaluator(predictions, y_test)\n",
    "\n",
    "    eval.ret_fscore()\n",
    "    for emotion in emotions:\n",
    "        f1_scores[emotion] += eval.f_score[emotion]\n",
    "\n",
    "for key in f1_scores:\n",
    "    f1_scores[key] = f1_scores[key]/3"
   ]
  },
  {
   "cell_type": "code",
   "execution_count": 14,
   "metadata": {},
   "outputs": [
    {
     "name": "stdout",
     "output_type": "stream",
     "text": [
      "{'joy': 0.623490646483934, 'fear': 0.5904152162597075, 'guilt': 0.42698345139785787, 'anger': 0.34690596429687415, 'disgust': 0.4895740041842313, 'sadness': 0.516832593207423, 'shame': 0.4201621385874445}\n"
     ]
    }
   ],
   "source": [
    "print(f1_scores)"
   ]
  },
  {
   "cell_type": "code",
   "execution_count": 10,
   "metadata": {},
   "outputs": [
    {
     "data": {
      "image/png": "[encoded data removed]",
      "text/plain": [
       "<Figure size 432x288 with 1 Axes>"
      ]
     },
     "metadata": {
      "needs_background": "light"
     },
     "output_type": "display_data"
    }
   ],
   "source": [
    "import matplotlib.pyplot as plt\n",
    "\n",
    "x = [i for i in range(1, 21)]\n",
    "y = f1_scores\n",
    "\n",
    "plt.plot(x,y)\n",
    "\n",
    "plt.show()"
   ]
  }
 ],
 "metadata": {
  "interpreter": {
   "hash": "aee8b7b246df8f9039afb4144a1f6fd8d2ca17a180786b69acc140d282b71a49"
  },
  "kernelspec": {
   "display_name": "Python 3.8.2 64-bit",
   "language": "python",
   "name": "python3"
  },
  "language_info": {
   "codemirror_mode": {
    "name": "ipython",
    "version": 3
   },
   "file_extension": ".py",
   "mimetype": "text/x-python",
   "name": "python",
   "nbconvert_exporter": "python",
   "pygments_lexer": "ipython3",
   "version": "3.8.2"
  },
  "orig_nbformat": 4
 },
 "nbformat": 4,
 "nbformat_minor": 2
}
